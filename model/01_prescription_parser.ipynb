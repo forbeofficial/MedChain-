{
 "cells": [
  {
   "cell_type": "markdown",
   "id": "7c53b396-90b5-4d1f-b961-a5a83094695f",
   "metadata": {},
   "source": [
    "1:https://sourceforge.net/projects/tesseract-ocr.mirror/\n",
    "\n",
    "\n",
    "2:https://github.com/oschwartz10612/poppler-windows/releases"
   ]
  },
  {
   "cell_type": "code",
   "execution_count": null,
   "id": "a688eda2",
   "metadata": {},
   "outputs": [],
   "source": [
    "import pytesseract\n",
    "import numpy as np\n",
    "import cv2\n",
    "import re\n",
    "import json\n",
    "from PIL import Image\n",
    "from typing import Dict\n",
    "TESSERACT_ENGINE_PATH = r\"C:\\Program Files\\Tesseract-OCR\\tesseract.exe\"\n",
    "pytesseract.pytesseract.tesseract_cmd = TESSERACT_ENGINE_PATH\n",
    "IMAGE_PATH = r\"C:\\Users\\kgopi\\Downloads\\model\\img5.png\"\n",
    "def preprocess_image(img: Image.Image) -> np.ndarray:\n",
    "    gray = cv2.cvtColor(np.array(img), cv2.COLOR_BGR2GRAY)\n",
    "    resized = cv2.resize(gray, None, fx=1.5, fy=1.5, interpolation=cv2.INTER_LINEAR)\n",
    "    processed_image = cv2.adaptiveThreshold(resized, 255, cv2.ADAPTIVE_THRESH_GAUSSIAN_C, cv2.THRESH_BINARY, 63, 12)\n",
    "    return processed_image\n",
    "def get_field(field_name: str, text: str) -> str:\n",
    "    pattern_dict = {\n",
    "        \"patient_name\": {\"pattern\": r\"Name:\\s*([A-Za-z\\s]+)\", \"flags\": 0},\n",
    "        \"patient_address\": {\"pattern\": r\"Address:\\s*([A-Za-z0-9\\s,]+)\", \"flags\": 0},\n",
    "        \"medicines\": {\"pattern\": r\"Directions:\\s*([\\s\\S]*?)Refill\", \"flags\": re.DOTALL},\n",
    "        \"directions\": {\"pattern\": r\"Directions:\\s*(.*)\", \"flags\": re.DOTALL},\n",
    "        \"refill\": {\"pattern\": r\"Refill:\\s*(\\d+)\", \"flags\": 0}\n",
    "    }\n",
    "    pattern_object = pattern_dict.get(field_name)\n",
    "    if pattern_object:\n",
    "        matches = re.findall(pattern_object[\"pattern\"], text, flags=pattern_object[\"flags\"])\n",
    "        if matches:\n",
    "            return matches[0].replace(\"\\n\", \" \").strip()\n",
    "    return None\n",
    "def parse(text: str) -> Dict:\n",
    "    return {\n",
    "        \"patient_name\": get_field(\"patient_name\", text),\n",
    "        \"patient_address\": get_field(\"patient_address\", text),\n",
    "        \"medicines\": get_field(\"medicines\", text),\n",
    "        \"directions\": get_field(\"directions\", text),\n",
    "        \"refill\": get_field(\"refill\", text)\n",
    "    }\n",
    "image = Image.open(IMAGE_PATH)\n",
    "img = preprocess_image(image)\n",
    "text = pytesseract.image_to_string(img, lang=\"eng\").replace(\"\\n\", \" \")\n",
    "info = parse(text)\n",
    "json_output = json.dumps(info, indent=4)\n",
    "print(json_output)"
   ]
  }
 ],
 "metadata": {
  "kernelspec": {
   "display_name": "Python 3",
   "language": "python",
   "name": "python3"
  },
  "language_info": {
   "codemirror_mode": {
    "name": "ipython",
    "version": 3
   },
   "file_extension": ".py",
   "mimetype": "text/x-python",
   "name": "python",
   "nbconvert_exporter": "python",
   "pygments_lexer": "ipython3",
   "version": "3.10.11"
  }
 },
 "nbformat": 4,
 "nbformat_minor": 5
}
